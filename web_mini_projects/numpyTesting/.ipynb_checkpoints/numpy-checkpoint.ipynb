{
 "cells": [
  {
   "cell_type": "code",
   "execution_count": 4,
   "id": "ea8591bc-de03-4bf7-8393-fbe5e9fb6d5e",
   "metadata": {},
   "outputs": [],
   "source": [
    "import numpy as np"
   ]
  },
  {
   "cell_type": "markdown",
   "id": "33afdf50-7795-4977-ad95-af90c820fb3c",
   "metadata": {
    "jp-MarkdownHeadingCollapsed": true
   },
   "source": [
    "# numPy matrix"
   ]
  },
  {
   "cell_type": "code",
   "execution_count": 20,
   "id": "6a9a76a6-38e6-4739-8781-07ec3f0a472f",
   "metadata": {},
   "outputs": [
    {
     "name": "stdout",
     "output_type": "stream",
     "text": [
      "[[1. 1. 1. 1. 1.]\n",
      " [1. 0. 0. 0. 1.]\n",
      " [1. 0. 9. 0. 1.]\n",
      " [1. 0. 0. 0. 1.]\n",
      " [1. 1. 1. 1. 1.]]\n"
     ]
    }
   ],
   "source": [
    "# numPy matrix\n",
    "output = np.ones((5,5))\n",
    "z = np.zeros((3,3))\n",
    "z[1,1] = 9\n",
    "output[1:-1,1:-1] = z\n",
    "print(output)"
   ]
  },
  {
   "cell_type": "markdown",
   "id": "b0049a21-b1d2-45df-aefd-d69b04709dfa",
   "metadata": {},
   "source": [
    "- course test solution matrix"
   ]
  },
  {
   "cell_type": "code",
   "execution_count": 10,
   "id": "1a83569e-bb2b-4886-85be-7940632ef525",
   "metadata": {},
   "outputs": [
    {
     "name": "stdout",
     "output_type": "stream",
     "text": [
      "[[0. 0. 0. 0. 0. 0. 0.]\n",
      " [0. 1. 1. 1. 1. 1. 0.]\n",
      " [0. 1. 1. 1. 1. 1. 0.]\n",
      " [0. 1. 1. 5. 1. 1. 0.]\n",
      " [0. 1. 1. 1. 1. 1. 0.]\n",
      " [0. 1. 1. 1. 1. 1. 0.]\n",
      " [0. 0. 0. 0. 0. 0. 0.]]\n"
     ]
    }
   ],
   "source": [
    "output = np.zeros((7,7))\n",
    "\n",
    "z = np.ones((5, 5))\n",
    "z[2, 2] = 5\n",
    "\n",
    "output[1:-1, 1:-1] = z\n",
    "print(output)"
   ]
  },
  {
   "cell_type": "markdown",
   "id": "6009ad7c-fa80-443c-92c1-ae156ddecad4",
   "metadata": {},
   "source": [
    "- count axis"
   ]
  },
  {
   "cell_type": "code",
   "execution_count": 12,
   "id": "1487412f-f731-4cb7-810c-c5f1b8c4c475",
   "metadata": {},
   "outputs": [
    {
     "data": {
      "text/plain": [
       "15"
      ]
     },
     "execution_count": 12,
     "metadata": {},
     "output_type": "execute_result"
    }
   ],
   "source": [
    "a = np.array(([1, 2, 3, 4, 5], [6, 7, 8, 9, 10]))\n",
    "b = np.max(a, axis=1).sum()\n",
    "b"
   ]
  },
  {
   "cell_type": "markdown",
   "id": "cad28a7f-9b38-4a69-a7b4-1016ae4baf2e",
   "metadata": {},
   "source": [
    "- reshaping"
   ]
  },
  {
   "cell_type": "code",
   "execution_count": 13,
   "id": "1010a095-9bd0-485a-9593-e7f86d346d57",
   "metadata": {},
   "outputs": [
    {
     "name": "stdout",
     "output_type": "stream",
     "text": [
      "[[1. 1.]\n",
      " [1. 1.]\n",
      " [1. 1.]\n",
      " [1. 1.]]\n"
     ]
    }
   ],
   "source": [
    "a = np.ones((2,4))\n",
    "b = a.reshape((4,2))\n",
    "print(b)"
   ]
  },
  {
   "cell_type": "markdown",
   "id": "bf428f8d-9de7-44d7-84ee-f8a9204feb1b",
   "metadata": {},
   "source": [
    "# data usage from local files"
   ]
  },
  {
   "cell_type": "code",
   "execution_count": 5,
   "id": "d41ede4f-2e1c-4189-9bec-75137b36be06",
   "metadata": {},
   "outputs": [],
   "source": [
    "import numpy as np\n",
    "import matplotlib.pyplot as plt"
   ]
  },
  {
   "cell_type": "code",
   "execution_count": 18,
   "id": "36d42993-599e-4d68-8af2-4bd7c73adcab",
   "metadata": {},
   "outputs": [
    {
     "name": "stdout",
     "output_type": "stream",
     "text": [
      "[29. 32. 45. 15.  5. 22.]\n"
     ]
    }
   ],
   "source": [
    "filedata = np.genfromtxt('data.txt', delimiter=',')\n",
    "file = filedata[filedata < 50]\n",
    "\n",
    "print(file)"
   ]
  },
  {
   "cell_type": "markdown",
   "id": "6e8741c0-55f8-4537-ae60-ebc242d7a7d6",
   "metadata": {},
   "source": [
    "- data sum"
   ]
  },
  {
   "cell_type": "code",
   "execution_count": 19,
   "id": "3cd4750f-ed1e-43a6-8dc6-ae45be48d26e",
   "metadata": {},
   "outputs": [
    {
     "data": {
      "text/plain": [
       "148.0"
      ]
     },
     "execution_count": 19,
     "metadata": {},
     "output_type": "execute_result"
    }
   ],
   "source": [
    "x = sum(file)\n",
    "x"
   ]
  },
  {
   "cell_type": "code",
   "execution_count": 14,
   "id": "1d40a677-2387-42a0-99e1-5a16578c9dc8",
   "metadata": {},
   "outputs": [
    {
     "name": "stdout",
     "output_type": "stream",
     "text": [
      "[inf]\n"
     ]
    }
   ],
   "source": [
    "filedata2 = np.genfromtxt('./../pi-1million.txt', delimiter='.')\n",
    "file2 = filedata2[filedata2 > 1]\n",
    "\n",
    "print(file2)\n"
   ]
  },
  {
   "cell_type": "markdown",
   "id": "c79fbb29-2050-4d06-98ff-892f190d060e",
   "metadata": {},
   "source": [
    "* Digit counter"
   ]
  },
  {
   "cell_type": "code",
   "execution_count": 17,
   "id": "08d704eb-0fa7-4027-beea-9d83ab87d825",
   "metadata": {},
   "outputs": [
    {
     "name": "stdout",
     "output_type": "stream",
     "text": [
      "0: 99959 times\n",
      "1: 99758 times\n",
      "2: 100026 times\n",
      "3: 100229 times\n",
      "4: 100230 times\n",
      "5: 100359 times\n",
      "6: 99548 times\n",
      "7: 99800 times\n",
      "8: 99985 times\n",
      "9: 100106 times\n"
     ]
    }
   ],
   "source": [
    "with open('./..//pi-1million.txt', 'r') as file:\n",
    "    pi = file.read()\n",
    "\n",
    "\n",
    "pi_digits = np.array([int(digit) for digit in pi if digit.isdigit()])\n",
    "digit_counts = {str(digit): 0 for digit in range(10)}\n",
    "counts = np.bincount(pi_digits)\n",
    "\n",
    "for digit in range(10):\n",
    "    digit_counts[str(digit)] = counts[digit]\n",
    "\n",
    "for digit, count in digit_counts.items():\n",
    "    print(f'{digit}: {count} times')"
   ]
  },
  {
   "cell_type": "code",
   "execution_count": 8,
   "id": "5bab9487-d918-42fe-bb7b-cb275c6ac3a4",
   "metadata": {},
   "outputs": [
    {
     "data": {
      "image/png": "[encoded data removed]",
      "text/plain": [
       "<Figure size 1000x600 with 1 Axes>"
      ]
     },
     "metadata": {},
     "output_type": "display_data"
    }
   ],
   "source": [
    "with open('./..//pi-1million.txt', 'r') as file:\n",
    "    pi = file.read()\n",
    "\n",
    "\n",
    "pi_digits = np.array([int(digit) for digit in pi if digit.isdigit()])\n",
    "digit_counts = {str(digit): 0 for digit in range(10)}\n",
    "counts = np.bincount(pi_digits)\n",
    "\n",
    "for digit in range(10):\n",
    "    digit_counts[str(digit)] = counts[digit]\n",
    "\n",
    "digits = list(digit_counts.keys())\n",
    "counts = list(digit_counts.values())\n",
    "\n",
    "plt.figure(figsize=(10, 6)) \n",
    "plt.bar(digits, counts, color='skyblue')  \n",
    "\n",
    "plt.title('Frequency of Each Digit in π (First 1 Million Digits)')\n",
    "plt.xlabel('Digit')\n",
    "plt.ylabel('Frequency')\n",
    "\n",
    "plt.xticks(range(0, 10))  \n",
    "plt.show()"
   ]
  },
  {
   "cell_type": "markdown",
   "id": "f1d5f1b1-eb91-4877-bbd5-95dc52f046b4",
   "metadata": {},
   "source": [
    "# Pandas X NumPy"
   ]
  },
  {
   "cell_type": "code",
   "execution_count": 3,
   "id": "36a9f196-4316-49b1-ad8e-a11b487224ce",
   "metadata": {},
   "outputs": [
    {
     "name": "stdout",
     "output_type": "stream",
     "text": [
      "Tom     8\n",
      "Beau    6\n",
      "dtype: int64\n"
     ]
    }
   ],
   "source": [
    "import pandas as pd\n",
    "\n",
    "certificates_earned = pd.Series(\n",
    "    [8, 2, 5, 6],\n",
    "    index=['Tom', 'Kris', 'Ahmad', 'Beau']\n",
    ")\n",
    "\n",
    "print(certificates_earned[certificates_earned > 5])"
   ]
  },
  {
   "cell_type": "code",
   "execution_count": 4,
   "id": "0be9bbb9-32de-4e8f-82f5-f2ab031ff563",
   "metadata": {},
   "outputs": [
    {
     "name": "stdout",
     "output_type": "stream",
     "text": [
      "Tom      8\n",
      "Kris     2\n",
      "Ahmad    5\n",
      "Beau     6\n",
      "dtype: int64\n"
     ]
    }
   ],
   "source": [
    "certificates_earned = pd.Series(\n",
    "    [8, 2, 5, 6],\n",
    "    index=['Tom', 'Kris', 'Ahmad', 'Beau']\n",
    ")\n",
    "\n",
    "print(certificates_earned)"
   ]
  },
  {
   "cell_type": "code",
   "execution_count": 5,
   "id": "a2b406fa-7527-42d8-9256-226757aed94e",
   "metadata": {},
   "outputs": [
    {
     "name": "stdout",
     "output_type": "stream",
     "text": [
      "       Certificates  Time (in months)  Longest streak\n",
      "Tom               8                16              13\n",
      "Kris              2                 5              11\n",
      "Ahmad             5                 9               9\n",
      "Beau              6                12               7\n"
     ]
    }
   ],
   "source": [
    "certificates_earned = pd.DataFrame({\n",
    "    'Certificates': [8, 2, 5, 6],\n",
    "    'Time (in months)': [16, 5, 9, 12]\n",
    "})\n",
    "names = ['Tom', 'Kris', 'Ahmad', 'Beau']\n",
    "\n",
    "certificates_earned.index = names\n",
    "longest_streak = pd.Series([13, 11, 9, 7], index=names)\n",
    "certificates_earned['Longest streak'] = longest_streak\n",
    "\n",
    "print(certificates_earned)"
   ]
  },
  {
   "cell_type": "code",
   "execution_count": null,
   "id": "eb1ae8fe-ea15-4ec4-8a40-1cfb9c5d4950",
   "metadata": {},
   "outputs": [],
   "source": []
  }
 ],
 "metadata": {
  "kernelspec": {
   "display_name": "Python 3 (ipykernel)",
   "language": "python",
   "name": "python3"
  },
  "language_info": {
   "codemirror_mode": {
    "name": "ipython",
    "version": 3
   },
   "file_extension": ".py",
   "mimetype": "text/x-python",
   "name": "python",
   "nbconvert_exporter": "python",
   "pygments_lexer": "ipython3",
   "version": "3.10.7"
  }
 },
 "nbformat": 4,
 "nbformat_minor": 5
}
